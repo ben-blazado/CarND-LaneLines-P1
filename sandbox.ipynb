{
 "cells": [
  {
   "cell_type": "markdown",
   "metadata": {},
   "source": [
    "# **Basic Computer Lane Finding** \n",
    "\n",
    "16-DEC-2020\n",
    "\n",
    "## Goals\n",
    "\n",
    "- Create an image processing pipeline that detects road lanes \n",
    "- Discover challenges in lane-finding\n",
    "- Discover image-preprocessing techniques\n",
    "- Apply Canny Edge detection and Hough transforms\n",
    "- Discover limitations and additional improvements \n",
    "- Fulfill a requirement of the Udacity Self-Driving Car Engineer Nanodegree Program\n",
    "\n",
    "## The Pipeline\n",
    "\n",
    "Teaching a computer to find lanes is not a trivial task. Basic lane detection involved continuously transforming an image of a freeway to allow a lines to be computed and to be lane lines extrapolated and superimposed on that image. For this project, the final pipeline of transforming this image of a freeway is composed of:\n",
    "- Finding areas of yellow and white colors \n",
    "- Tracing edges\n",
    "- Masking out unneeded areas\n",
    "- Creating lines based on edges detected\n",
    "- Reducing lines to two left and right lanes\n",
    "- Superimposing the lanes on initial image to create the final\n",
    "\n",
    "## Challenges\n",
    "\n",
    "Initially, efforts started with:\n",
    "- Transforming to grayscale \n",
    "- Blurring the image to reduce image noise\n",
    "- Tracing edges\n",
    "- Masking out unneeded areas\n",
    "- Creating lines based on edges detected\n",
    "- Superimposing the lines on initial image to create the final\n",
    "\n",
    "The initial efforts in applying edge detection and Hough transformation techniques led to two major challenges:\n",
    "- Reducing multiple lines detected into to reasonable lane lines\n",
    "- Detecting lanes in low contrast and shadow\n",
    "\n",
    "### Finding Just 2 Lines out of a Gazillion\n",
    "\n",
    "Of course, the resulting image had way too many lines. In order to draw just two lines to represent the left and right lanes, the function draw_lines () the following was needed:\n",
    "\n",
    "* Sort lines into those on the left, and those on the right side of the screen. Generally, lines with negative slopes were considered to be lines on the left side of the screen and those with positive slopes are on the right side. Also, exclude any steep or shallow lines which we assume are outliers:\n",
    "\n",
    "```\n",
    "def sort_line_params(lines, min_d=10):\n",
    "    ...\n",
    "    for line in lines:\n",
    "        for (x1, y1, x2, y2) in line:\n",
    "\t        if (abs(x2 - x1) > min_d) and (abs(y2 - y1) > min_d):\n",
    "\t             slope = (y2 - y1) / (x2 - x1)\n",
    "\t             yint = y1 - slope * x1\n",
    "\t             if slope < 0:\n",
    "\t                 left_slopes.append(slope)\n",
    "\t                 left_yints.append(yint)\n",
    "\t             else:\n",
    "\t                 right_slopes.append(slope)\n",
    "\t                 right_yints.append(yint) \n",
    "\t...\t   \n",
    "```\n",
    "* Calculate the average slope and y-intercept of the lines that of the left lines and those of the right lines:\n",
    "```\n",
    "\t...\n",
    "    left_params  = (np.average(left_slopes), np.average(left_yints))\n",
    "    right_params = (np.average(right_slopes), np.average(right_yints))\n",
    "    ...\n",
    " ```\n",
    "* Use the average slopes of the left and right groups can then be used to calculate the lines that represent left and right lanes respectively.\n",
    "\n",
    "This approach led to a detection of reasonable lane lines when the pipeline processed `solidWhiteRight.mp4` and `solidYellowLeft.mp4`. However, it failed to detect lanes in an area of low contrast and shadow in `challenge.mp4`.\n",
    "\n",
    "### Saturation and Contrast Tests to Improve Lane Detection in Low Contrast and Shade\n",
    "\n",
    "Increasing saturation and artificially applying extreme contrast was tested to verify if lane detection on lighter-colored concrete (low contrast) and in shadow improved. The following image processing was applied to achieve this:\n",
    "- RGB image was converted to an HSV image. \n",
    "- The S value of the image was increased to a maximum of 255 for all pixels\n",
    "- The image converted to grayscale. \n",
    "- An extreme amount of contrast was then applied  by setting all pixels below a grayscale value of 50 were  to 0, and the rest to 255.\n",
    "\n",
    "```\n",
    "def test_saturate (image):\n",
    "\n",
    "    hsv = cv2.cvtColor(image, cv2.COLOR_RGB2HSV)\n",
    "    hsv[:,:,1] = 255  \n",
    "    image_saturated = cv2.cvtColor(hsv, cv2.COLOR_HSV2RGB)\n",
    "\n",
    "    return image_saturated \n",
    "```\n",
    "\n",
    "![image-saturated.png](test_images_output/image-saturated.png \"Image after applying high saturation\")\n",
    "\n",
    "```\n",
    "def test_max_contrast (image_gray, lo=50):\n",
    "    \n",
    "    image_max_contrast = np.zeros_like(image_gray)\n",
    "    \n",
    "    f = image_gray < lo\n",
    "    image_max_contrast = np.where (f, 0, 255)\n",
    "                \n",
    "    return  np.array(image_max_contrast, dtype=np.uint8)\n",
    "```\n",
    "\n",
    "![image-max_contrast.png](test_images_output/image-max_contrast.png \"Image after transforming to gray scale and max contrast to a saturated image\")\n",
    "\n",
    "While lane detection improved slightly for `challenge.mp4`, the pipeline failed to  detect the lanes in shadow.\n",
    "\n",
    "###  Masking Yellow and White\n",
    "\n",
    "Testing shifted to detecting areas that are yellow or white. Those areas would then be marked with a mask which could be used for further processing in the pipeline. Through trial and error, the following HSV ranges were set for yellow and white:\n",
    "```\n",
    "test_yellow_range = [np.array([20,  70,   0]), \n",
    "                np.array([40, 255, 255])]\n",
    "\n",
    "test_white_range  = [np.array([  0,  0, 180]), \n",
    "                np.array([179, 25, 255])]\n",
    "```\n",
    "These ranges could then be used in `opencv.inRange()` to create a mask for each color, then combined to create a complete mask highlighting the yellow + white areas, thus marking yellow and white lanes.\n",
    "```\n",
    "def test_highlight_yellow_and_white (image):\n",
    "    \n",
    "    hsv_image = cv2.cvtColor(image, cv2.COLOR_RGB2HSV)\n",
    "    \n",
    "    mask_yellow = cv2.inRange(hsv_image, test_yellow_range[0], test_yellow_range[1])\n",
    "    mask_white  = cv2.inRange(hsv_image, test_white_range[0], test_white_range[1])\n",
    "    \n",
    "    #--- combine mask of yellow and white areas into one mask\n",
    "    mask = mask_yellow + mask_white\n",
    "                      \n",
    "    return mask\n",
    "```\n",
    "\n",
    "![Before and after marking yellow and white areas](test_images_output/image_yw_mask.png \"Before and after marking yellow and white areas\")\n",
    "\n",
    "By marking yellow and white areas the pipeline now had successfully detected lanes in low contrast and shaded areas in `challenge.mp4`. \n",
    "\n",
    "\n",
    "![challenge_light_concrete.jpg](test_videos_output/challenge_light_concrete.jpg \"Pipeline detecting lane in light concrete\")\n",
    "\n",
    "\n",
    "## Other Notes\n",
    "### Images at each Pipeline Stage\n",
    "\n",
    "Because the image processed by the function `test_highlight_yellow_and_white()` produced a mask that was already gray scale and not noisy, the pipeline skipped applying a gaussian blur and proceeded with edge detection, Hough transformation, and superimposing the lanes on the final image. Results of applying this shorter pipeline are below:\n",
    "\n",
    "![laned_solidWhiteCurve.jpg](test_images_output/laned_solidWhiteCurve.jpg \"laned_solidWhiteCurve.jpg \")\n",
    "![laned_solidWhiteRight.jpg](test_images_output/laned_solidWhiteRight.jpg \"laned_solidWhiteRight.jpg\")\n",
    "![laned_solidYellowCurve.jpg](test_images_output/laned_solidYellowCurve.jpg \"laned_solidYellowCurve.jpg\")\n",
    "![laned_solidYellowCurve2.jpg](test_images_output/laned_solidYellowCurve2.jpg \"laned_solidYellowCurve2.jpg\")\n",
    "![laned_solidYellowLeft.jpg](test_images_output/laned_solidYellowLeft.jpg \"laned_solidYellowLeft.jpg\")\n",
    "![laned_whiteCarLaneSwitch.jpg](test_images_output/laned_whiteCarLaneSwitch.jpg \"laned_whiteCarLaneSwitch.jpg\")\n",
    "\n",
    "### Pipeline Limitations\n",
    "\n",
    "- Lanes exhibit a lot of jitter,\n",
    "- Lanes that are near-horizontal are not drawn\n",
    "- Lanes that are near-vertical are not drawn\n",
    "- Probably will not detect lanes at night or during inclement weather\n",
    "- Faded lanes will probably not be detected \n",
    "\n",
    "### Areas of improvement\n",
    "- Use theta (angle of incidence of line to horizontal) instead of slope\n",
    "- Further tweaking parameters\n",
    "- Including average of previous n-frames in calculating the lane line could help reduce lane jitter\n",
    "- Collect metrics such as:\n",
    "\t- How many frames did not detect any lines\n",
    "\t- time to process each frame to understand pipeline performance\n",
    "- Use CNN techniques to identify the lanes\n",
    "- Draw continuous curve for curved lanes\n",
    "\n",
    "> Written with [StackEdit](https://stackedit.io/)."
   ]
  },
  {
   "cell_type": "code",
   "execution_count": 1,
   "metadata": {},
   "outputs": [],
   "source": [
    "#importing some useful packages\n",
    "import matplotlib.pyplot as plt\n",
    "import matplotlib.image as mpimg\n",
    "import numpy as np\n",
    "import cv2\n",
    "%matplotlib inline"
   ]
  },
  {
   "cell_type": "code",
   "execution_count": 2,
   "metadata": {},
   "outputs": [
    {
     "data": {
      "text/plain": [
       "array([[[ 60, 255, 255]]], dtype=uint8)"
      ]
     },
     "execution_count": 2,
     "metadata": {},
     "output_type": "execute_result"
    }
   ],
   "source": [
    " green = np.uint8([[[0,255,0 ]]])\n",
    " hsv_green = cv2.cvtColor(green,cv2.COLOR_BGR2HSV)\n",
    " hsv_green"
   ]
  },
  {
   "cell_type": "code",
   "execution_count": 25,
   "metadata": {},
   "outputs": [
    {
     "data": {
      "text/plain": [
       "<matplotlib.image.AxesImage at 0x2d48a98ee80>"
      ]
     },
     "execution_count": 25,
     "metadata": {},
     "output_type": "execute_result"
    },
    {
     "data": {
      "image/png": "[encoded data removed]",
      "text/plain": [
       "<Figure size 432x288 with 1 Axes>"
      ]
     },
     "metadata": {
      "needs_background": "light"
     },
     "output_type": "display_data"
    }
   ],
   "source": [
    "\n",
    "square = np.empty((100, 100, 3), dtype=np.uint8)\n",
    "yellow = np.uint8([[[255, 255, 0]]])\n",
    "\n",
    "square[:,:] = yellow\n",
    "\n",
    "plt.imshow(square)\n",
    "\n"
   ]
  },
  {
   "cell_type": "code",
   "execution_count": 26,
   "metadata": {},
   "outputs": [
    {
     "data": {
      "text/plain": [
       "array([[[ 30, 255, 255]]], dtype=uint8)"
      ]
     },
     "execution_count": 26,
     "metadata": {},
     "output_type": "execute_result"
    }
   ],
   "source": [
    "hsv_yellow = cv2.cvtColor(yellow,cv2.COLOR_RGB2HSV)\n",
    "hsv_yellow"
   ]
  },
  {
   "cell_type": "code",
   "execution_count": 27,
   "metadata": {},
   "outputs": [
    {
     "data": {
      "text/plain": [
       "[[20, 100, 100], [40, 255, 255]]"
      ]
     },
     "execution_count": 27,
     "metadata": {},
     "output_type": "execute_result"
    }
   ],
   "source": [
    "hue = hsv_yellow[0][0][0]\n",
    "hsv_yellow_range = [[hue - 10, 100, 100], [hue + 10, 255, 255]]\n",
    "hsv_yellow_range "
   ]
  },
  {
   "cell_type": "code",
   "execution_count": 68,
   "metadata": {},
   "outputs": [
    {
     "data": {
      "text/plain": [
       "(array([ 25, 125, 125], dtype=uint8), array([ 35, 255, 255], dtype=uint8))"
      ]
     },
     "execution_count": 68,
     "metadata": {},
     "output_type": "execute_result"
    }
   ],
   "source": [
    "def hsv_color_range(rgb_color):\n",
    "    \n",
    "    hsv_color = cv2.cvtColor(rgb_color,cv2.COLOR_RGB2HSV)\n",
    "    hue = hsv_color[0][0][0]\n",
    "    \n",
    "    lo_sv = 125\n",
    "    hi_sv = 255\n",
    "    hsv_color_range = np.uint8([[hue - 5, lo_sv, lo_sv], [hue + 5, hi_sv, hi_sv]])\n",
    "    \n",
    "    return hsv_color_range\n",
    "\n",
    "r = hsv_color_range(yellow)\n",
    "r[0], r[1]"
   ]
  },
  {
   "cell_type": "code",
   "execution_count": 70,
   "metadata": {},
   "outputs": [
    {
     "data": {
      "text/plain": [
       "(2, 3)"
      ]
     },
     "execution_count": 70,
     "metadata": {},
     "output_type": "execute_result"
    }
   ],
   "source": [
    "r.shape"
   ]
  },
  {
   "cell_type": "code",
   "execution_count": 69,
   "metadata": {},
   "outputs": [
    {
     "data": {
      "text/plain": [
       "<matplotlib.image.AxesImage at 0x2d49e4c8e80>"
      ]
     },
     "execution_count": 69,
     "metadata": {},
     "output_type": "execute_result"
    },
    {
     "data": {
      "image/png": "[encoded data removed]",
      "text/plain": [
       "<Figure size 432x288 with 1 Axes>"
      ]
     },
     "metadata": {
      "needs_background": "light"
     },
     "output_type": "display_data"
    }
   ],
   "source": [
    "hsv_lo_square = np.empty((100, 100, 3), dtype=np.uint8)\n",
    "hsv_lo_square[:, :] = r[0]\n",
    "lo_square = cv2.cvtColor(hsv_lo_square, cv2.COLOR_HSV2RGB)\n",
    "\n",
    "plt.imshow(lo_square)"
   ]
  },
  {
   "cell_type": "code",
   "execution_count": 5,
   "metadata": {},
   "outputs": [
    {
     "data": {
      "text/plain": [
       "40000"
      ]
     },
     "execution_count": 5,
     "metadata": {},
     "output_type": "execute_result"
    }
   ],
   "source": [
    "import numpy as np\n",
    "a = np.square ([2, 2, 2])\n",
    "b = np.sum(a)\n",
    "b\n",
    "\n",
    "200 * 200"
   ]
  },
  {
   "cell_type": "code",
   "execution_count": 79,
   "metadata": {},
   "outputs": [
    {
     "name": "stdout",
     "output_type": "stream",
     "text": [
      "[[[ 1  2  3]\n",
      "  [ 4  5  6]\n",
      "  [ 7  8  9]]\n",
      "\n",
      " [[11 12 13]\n",
      "  [14 15 16]\n",
      "  [17 18 19]]] (2, 3, 3)\n",
      "c [[[-2 -2 -2]\n",
      "  [-2 -2 -2]\n",
      "  [-2 -2 -2]]\n",
      "\n",
      " [[-2 -2 -2]\n",
      "  [-2 -2 -2]\n",
      "  [-2 -2 -2]]]\n",
      "s [[12 12 12]\n",
      " [12 12 12]]\n",
      "d [[[4 4 4]\n",
      "  [4 4 4]\n",
      "  [4 4 4]]\n",
      "\n",
      " [[4 4 4]\n",
      "  [4 4 4]\n",
      "  [4 4 4]]]\n",
      "(2, 3, 3)\n",
      "[[[ True  True  True]\n",
      "  [ True  True  True]\n",
      "  [ True  True  True]]\n",
      "\n",
      " [[ True  True  True]\n",
      "  [ True  True  True]\n",
      "  [ True  True  True]]]\n",
      "(2, 3, 3)\n"
     ]
    },
    {
     "ename": "ValueError",
     "evalue": "NumPy boolean array indexing assignment cannot assign 3 input values to the 18 output values where the mask is true",
     "output_type": "error",
     "traceback": [
      "\u001b[1;31m---------------------------------------------------------------------------\u001b[0m",
      "\u001b[1;31mValueError\u001b[0m                                Traceback (most recent call last)",
      "\u001b[1;32m<ipython-input-79-ecaa1f37a5cd>\u001b[0m in \u001b[0;36m<module>\u001b[1;34m\u001b[0m\n\u001b[0;32m     40\u001b[0m \u001b[0mprint\u001b[0m \u001b[1;33m(\u001b[0m\u001b[0mf\u001b[0m\u001b[1;33m.\u001b[0m\u001b[0mshape\u001b[0m\u001b[1;33m)\u001b[0m\u001b[1;33m\u001b[0m\u001b[0m\n\u001b[0;32m     41\u001b[0m \u001b[1;33m\u001b[0m\u001b[0m\n\u001b[1;32m---> 42\u001b[1;33m \u001b[0ma\u001b[0m\u001b[1;33m[\u001b[0m\u001b[0mf\u001b[0m\u001b[1;33m]\u001b[0m \u001b[1;33m=\u001b[0m \u001b[1;33m[\u001b[0m\u001b[1;36m0\u001b[0m\u001b[1;33m,\u001b[0m \u001b[1;36m0\u001b[0m\u001b[1;33m,\u001b[0m \u001b[1;36m0\u001b[0m\u001b[1;33m]\u001b[0m\u001b[1;33m\u001b[0m\u001b[0m\n\u001b[0m\u001b[0;32m     43\u001b[0m \u001b[0mprint\u001b[0m \u001b[1;33m(\u001b[0m\u001b[1;34m\"a[f]\"\u001b[0m\u001b[1;33m,\u001b[0m \u001b[0ma\u001b[0m\u001b[1;33m[\u001b[0m\u001b[0mf\u001b[0m\u001b[1;33m]\u001b[0m\u001b[1;33m)\u001b[0m\u001b[1;33m\u001b[0m\u001b[0m\n\u001b[0;32m     44\u001b[0m \u001b[0mprint\u001b[0m \u001b[1;33m(\u001b[0m\u001b[0ma\u001b[0m\u001b[1;33m)\u001b[0m\u001b[1;33m\u001b[0m\u001b[0m\n",
      "\u001b[1;31mValueError\u001b[0m: NumPy boolean array indexing assignment cannot assign 3 input values to the 18 output values where the mask is true"
     ]
    }
   ],
   "source": [
    "a = np.array (\n",
    "    [\n",
    "        [\n",
    "            [1, 2, 3], \n",
    "            [4, 5, 6], \n",
    "            [7, 8, 9]\n",
    "        ],\n",
    "        [\n",
    "            [11, 12, 13], \n",
    "            [14, 15, 16], \n",
    "            [17, 18, 19]\n",
    "        ],\n",
    "\n",
    "    ])\n",
    "a.shape\n",
    "\n",
    "b = a + 2\n",
    "b\n",
    "\n",
    "# a[:, :, :] = np.array([202, 220, 230])\n",
    "print (a, a.shape)\n",
    "\n",
    "c = (a - b)\n",
    "print(\"c\",c)\n",
    "# d = np.average(a, axis=2).reshape((d.shape, 1))\n",
    "# d = np.average(a, axis=2)\n",
    "# d = d[:,:,None]\n",
    "d = np.square(c)\n",
    "s = np.sum(d, axis=2)\n",
    "print (\"s\", s)\n",
    "\n",
    "\n",
    "f = d < 8\n",
    "\n",
    "print(\"d\",d)\n",
    "print(d.shape)\n",
    "e = np.where(d < 8, [0, 0, 0], [16, 16, 16])\n",
    "e\n",
    "print (f)\n",
    "print (f.shape)\n",
    "\n",
    "a[f] = [0, 0, 0]\n",
    "print (\"a[f]\", a[f])\n",
    "print (a)\n"
   ]
  },
  {
   "cell_type": "code",
   "execution_count": 4,
   "metadata": {},
   "outputs": [
    {
     "data": {
      "text/plain": [
       "array([0.32175055, 0.78539816])"
      ]
     },
     "execution_count": 4,
     "metadata": {},
     "output_type": "execute_result"
    }
   ],
   "source": [
    "import numpy as np\n",
    "theta = np.arctan2([1])\n",
    "theta"
   ]
  },
  {
   "cell_type": "code",
   "execution_count": 12,
   "metadata": {},
   "outputs": [],
   "source": [
    "m = float('inf')"
   ]
  },
  {
   "cell_type": "code",
   "execution_count": 13,
   "metadata": {},
   "outputs": [
    {
     "data": {
      "text/plain": [
       "inf"
      ]
     },
     "execution_count": 13,
     "metadata": {},
     "output_type": "execute_result"
    }
   ],
   "source": [
    "3 * m"
   ]
  }
 ],
 "metadata": {
  "kernelspec": {
   "display_name": "Python 3",
   "language": "python",
   "name": "python3"
  },
  "language_info": {
   "codemirror_mode": {
    "name": "ipython",
    "version": 3
   },
   "file_extension": ".py",
   "mimetype": "text/x-python",
   "name": "python",
   "nbconvert_exporter": "python",
   "pygments_lexer": "ipython3",
   "version": "3.5.5"
  },
  "widgets": {
   "state": {},
   "version": "1.1.2"
  }
 },
 "nbformat": 4,
 "nbformat_minor": 4
}
