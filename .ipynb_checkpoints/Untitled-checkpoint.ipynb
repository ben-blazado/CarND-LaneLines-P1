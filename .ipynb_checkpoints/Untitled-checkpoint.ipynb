{
 "cells": [
  {
   "cell_type": "code",
   "execution_count": 5,
   "metadata": {},
   "outputs": [
    {
     "data": {
      "text/plain": [
       "40000"
      ]
     },
     "execution_count": 5,
     "metadata": {},
     "output_type": "execute_result"
    }
   ],
   "source": [
    "import numpy as np\n",
    "a = np.square ([2, 2, 2])\n",
    "b = np.sum(a)\n",
    "b\n",
    "\n",
    "200 * 200"
   ]
  },
  {
   "cell_type": "code",
   "execution_count": 75,
   "metadata": {},
   "outputs": [
    {
     "name": "stdout",
     "output_type": "stream",
     "text": [
      "[[[ 1  2  3]\n",
      "  [ 4  5  6]\n",
      "  [ 7  8  9]]\n",
      "\n",
      " [[11 12 13]\n",
      "  [14 15 16]\n",
      "  [17 18 19]]] (2, 3, 3)\n",
      "c [[[2 2 2]\n",
      "  [2 2 2]\n",
      "  [2 2 2]]\n",
      "\n",
      " [[2 2 2]\n",
      "  [2 2 2]\n",
      "  [2 2 2]]]\n",
      "d [[[  1   4   9]\n",
      "  [ 16  25  36]\n",
      "  [ 49  64  81]]\n",
      "\n",
      " [[121 144 169]\n",
      "  [196 225 256]\n",
      "  [289 324 361]]]\n",
      "(2, 3, 3)\n",
      "[[[ True  True False]\n",
      "  [False False False]\n",
      "  [False False False]]\n",
      "\n",
      " [[False False False]\n",
      "  [False False False]\n",
      "  [False False False]]]\n",
      "(2, 3, 3)\n"
     ]
    },
    {
     "ename": "ValueError",
     "evalue": "NumPy boolean array indexing assignment cannot assign 3 input values to the 2 output values where the mask is true",
     "output_type": "error",
     "traceback": [
      "\u001b[1;31m---------------------------------------------------------------------------\u001b[0m",
      "\u001b[1;31mValueError\u001b[0m                                Traceback (most recent call last)",
      "\u001b[1;32m<ipython-input-75-4df1ecbb3f02>\u001b[0m in \u001b[0;36m<module>\u001b[1;34m\u001b[0m\n\u001b[0;32m     38\u001b[0m \u001b[0mprint\u001b[0m \u001b[1;33m(\u001b[0m\u001b[0mf\u001b[0m\u001b[1;33m.\u001b[0m\u001b[0mshape\u001b[0m\u001b[1;33m)\u001b[0m\u001b[1;33m\u001b[0m\u001b[0m\n\u001b[0;32m     39\u001b[0m \u001b[1;33m\u001b[0m\u001b[0m\n\u001b[1;32m---> 40\u001b[1;33m \u001b[0ma\u001b[0m\u001b[1;33m[\u001b[0m\u001b[0mf\u001b[0m\u001b[1;33m]\u001b[0m \u001b[1;33m=\u001b[0m \u001b[1;33m[\u001b[0m\u001b[1;36m0\u001b[0m\u001b[1;33m,\u001b[0m \u001b[1;36m0\u001b[0m\u001b[1;33m,\u001b[0m \u001b[1;36m0\u001b[0m\u001b[1;33m]\u001b[0m\u001b[1;33m\u001b[0m\u001b[0m\n\u001b[0m\u001b[0;32m     41\u001b[0m \u001b[0mprint\u001b[0m \u001b[1;33m(\u001b[0m\u001b[1;34m\"a[f]\"\u001b[0m\u001b[1;33m,\u001b[0m \u001b[0ma\u001b[0m\u001b[1;33m[\u001b[0m\u001b[0mf\u001b[0m\u001b[1;33m]\u001b[0m\u001b[1;33m)\u001b[0m\u001b[1;33m\u001b[0m\u001b[0m\n\u001b[0;32m     42\u001b[0m \u001b[0mprint\u001b[0m \u001b[1;33m(\u001b[0m\u001b[0ma\u001b[0m\u001b[1;33m)\u001b[0m\u001b[1;33m\u001b[0m\u001b[0m\n",
      "\u001b[1;31mValueError\u001b[0m: NumPy boolean array indexing assignment cannot assign 3 input values to the 2 output values where the mask is true"
     ]
    }
   ],
   "source": [
    "a = np.array (\n",
    "    [\n",
    "        [\n",
    "            [1, 2, 3], \n",
    "            [4, 5, 6], \n",
    "            [7, 8, 9]\n",
    "        ],\n",
    "        [\n",
    "            [11, 12, 13], \n",
    "            [14, 15, 16], \n",
    "            [17, 18, 19]\n",
    "        ],\n",
    "\n",
    "    ])\n",
    "a.shape\n",
    "\n",
    "b = a + 2\n",
    "b\n",
    "\n",
    "# a[:, :, :] = np.array([202, 220, 230])\n",
    "print (a, a.shape)\n",
    "\n",
    "c = (a - b)\n",
    "print(\"c\",c)\n",
    "# d = np.average(a, axis=2).reshape((d.shape, 1))\n",
    "# d = np.average(a, axis=2)\n",
    "# d = d[:,:,None]\n",
    "d = np.square(c)\n",
    "s = np.sum(d)\n",
    "\n",
    "\n",
    "f = d < 8\n",
    "\n",
    "print(\"d\",d)\n",
    "print(d.shape)\n",
    "e = np.where(d < 8, [0, 0, 0], [16, 16, 16])\n",
    "e\n",
    "print (f)\n",
    "print (f.shape)\n",
    "\n",
    "a[f] = [0, 0, 0]\n",
    "print (\"a[f]\", a[f])\n",
    "print (a)\n"
   ]
  }
 ],
 "metadata": {
  "kernelspec": {
   "display_name": "Python 3",
   "language": "python",
   "name": "python3"
  },
  "language_info": {
   "codemirror_mode": {
    "name": "ipython",
    "version": 3
   },
   "file_extension": ".py",
   "mimetype": "text/x-python",
   "name": "python",
   "nbconvert_exporter": "python",
   "pygments_lexer": "ipython3",
   "version": "3.5.5"
  },
  "widgets": {
   "state": {},
   "version": "1.1.2"
  }
 },
 "nbformat": 4,
 "nbformat_minor": 4
}
